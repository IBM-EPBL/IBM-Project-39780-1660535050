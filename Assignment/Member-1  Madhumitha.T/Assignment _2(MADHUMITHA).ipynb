{
 "cells": [
  {
   "cell_type": "code",
   "execution_count": null,
   "id": "ac9f8741",
   "metadata": {},
   "outputs": [],
   "source": [
    "import pandas as pd\n",
    "import numpy as np\n",
    "from sklearn.preprocessing import MinMaxScaler\n",
    "from sklearn.metrics import confusion_matrix,accuracy_score\n",
    "import matplotlib.pyplot as plt\n",
    "import seaborn as sns"
   ]
  },
  {
   "cell_type": "code",
   "execution_count": null,
   "id": "4b2cbcdd",
   "metadata": {},
   "outputs": [],
   "source": [
    "#import the dataset\n",
    "dataset = pd.read_csv(\"Churn_Modelling.csv\")\n",
    "\n",
    "dataset.head()"
   ]
  },
  {
   "cell_type": "code",
   "execution_count": null,
   "id": "769605b9",
   "metadata": {},
   "outputs": [],
   "source": [
    "dataset.tail()"
   ]
  },
  {
   "cell_type": "code",
   "execution_count": null,
   "id": "38a27915",
   "metadata": {},
   "outputs": [],
   "source": [
    "dataset.describe()"
   ]
  },
  {
   "cell_type": "markdown",
   "id": "e98059a5",
   "metadata": {},
   "source": [
    "# Univariate analysis"
   ]
  },
  {
   "cell_type": "code",
   "execution_count": null,
   "id": "ee48b583",
   "metadata": {},
   "outputs": [],
   "source": [
    "#histogram\n",
    "\n",
    "sns.distplot(dataset['CustomerId'],kde=False)"
   ]
  },
  {
   "cell_type": "code",
   "execution_count": null,
   "id": "04a1dad6",
   "metadata": {},
   "outputs": [],
   "source": [
    "#count plot\n",
    "\n",
    "sns.countplot(x='CreditScore',data=dataset)"
   ]
  },
  {
   "cell_type": "markdown",
   "id": "70d3806b",
   "metadata": {},
   "source": [
    "# Bi-Variate Analysis\n"
   ]
  },
  {
   "cell_type": "code",
   "execution_count": null,
   "id": "c40db1e7",
   "metadata": {},
   "outputs": [],
   "source": [
    "#bar chart\n",
    "\n",
    "sns.barplot(x='Surname',y='CreditScore', data=dataset)\n"
   ]
  },
  {
   "cell_type": "code",
   "execution_count": null,
   "id": "34d85ee8",
   "metadata": {},
   "outputs": [],
   "source": [
    "#box plot\n",
    "\n",
    "sns.boxplot(data=dataset, x='Surname',y='CreditScore')"
   ]
  },
  {
   "cell_type": "code",
   "execution_count": null,
   "id": "ff27ecce",
   "metadata": {},
   "outputs": [],
   "source": [
    "#regression plot\n",
    "\n",
    "sns.lmplot(x='EstimatedSalary',y='Balance',data=dataset)"
   ]
  },
  {
   "cell_type": "markdown",
   "id": "35b85832",
   "metadata": {},
   "source": [
    "# Multivariate analysis\n"
   ]
  },
  {
   "cell_type": "code",
   "execution_count": null,
   "id": "d0d5c840",
   "metadata": {},
   "outputs": [],
   "source": [
    "sns.pairplot(dataset)"
   ]
  },
  {
   "cell_type": "markdown",
   "id": "c35a7461",
   "metadata": {},
   "source": [
    "# Descriptive statistics"
   ]
  },
  {
   "cell_type": "code",
   "execution_count": null,
   "id": "a2e954d6",
   "metadata": {},
   "outputs": [],
   "source": [
    "dataset = pd.read_csv(\"Churn_Modelling.csv\")\n",
    "dataset.head()"
   ]
  },
  {
   "cell_type": "code",
   "execution_count": null,
   "id": "42da2a52",
   "metadata": {},
   "outputs": [],
   "source": [
    "dataset.tail()"
   ]
  },
  {
   "cell_type": "code",
   "execution_count": null,
   "id": "d1da4295",
   "metadata": {},
   "outputs": [],
   "source": [
    "dataset.info()"
   ]
  },
  {
   "cell_type": "code",
   "execution_count": null,
   "id": "41dfb15d",
   "metadata": {},
   "outputs": [],
   "source": [
    "#mean\n",
    "\n",
    "dataset.mean()"
   ]
  },
  {
   "cell_type": "code",
   "execution_count": null,
   "id": "a782d0e6",
   "metadata": {},
   "outputs": [],
   "source": [
    "# median\n",
    "\n",
    "dataset.median()\n"
   ]
  },
  {
   "cell_type": "code",
   "execution_count": null,
   "id": "5b6bd11f",
   "metadata": {},
   "outputs": [],
   "source": [
    "#mode\n",
    "\n",
    "dataset.mode()"
   ]
  },
  {
   "cell_type": "markdown",
   "id": "25add0cf",
   "metadata": {},
   "source": [
    "# Handle the missing values"
   ]
  },
  {
   "cell_type": "code",
   "execution_count": null,
   "id": "ac3555c1",
   "metadata": {},
   "outputs": [],
   "source": [
    "dataset.isna()"
   ]
  },
  {
   "cell_type": "code",
   "execution_count": null,
   "id": "f09e5c3b",
   "metadata": {},
   "outputs": [],
   "source": [
    "dataset.isna().any()"
   ]
  },
  {
   "cell_type": "code",
   "execution_count": null,
   "id": "32bfa33d",
   "metadata": {},
   "outputs": [],
   "source": [
    "#skewness\n",
    "\n",
    "dataset.skew()"
   ]
  },
  {
   "cell_type": "code",
   "execution_count": null,
   "id": "439ad612",
   "metadata": {},
   "outputs": [],
   "source": [
    "print(sns.distplot(dataset['Age']))"
   ]
  },
  {
   "cell_type": "code",
   "execution_count": null,
   "id": "c989f09f",
   "metadata": {},
   "outputs": [],
   "source": [
    "dataset.kurt()"
   ]
  },
  {
   "cell_type": "code",
   "execution_count": null,
   "id": "b4292a94",
   "metadata": {},
   "outputs": [],
   "source": [
    "dataset.var()"
   ]
  },
  {
   "cell_type": "code",
   "execution_count": null,
   "id": "42494daf",
   "metadata": {},
   "outputs": [],
   "source": [
    "dataset.std()"
   ]
  },
  {
   "cell_type": "markdown",
   "id": "99e2713d",
   "metadata": {},
   "source": [
    "# Find the outlier and replace the outliers"
   ]
  },
  {
   "cell_type": "code",
   "execution_count": null,
   "id": "824262d5",
   "metadata": {},
   "outputs": [],
   "source": [
    "sns.boxplot(dataset['Age'])"
   ]
  },
  {
   "cell_type": "code",
   "execution_count": null,
   "id": "a8134fb4",
   "metadata": {},
   "outputs": [],
   "source": [
    "qnt=dataset.quantile(q=(0.30,0.45))\n",
    "qnt\n"
   ]
  },
  {
   "cell_type": "code",
   "execution_count": null,
   "id": "c40873a9",
   "metadata": {},
   "outputs": [],
   "source": [
    "iqr =qnt.loc[0.45]-qnt.loc[0.30] #iqr calculation\n",
    "iqr"
   ]
  },
  {
   "cell_type": "code",
   "execution_count": null,
   "id": "c0a759fd",
   "metadata": {},
   "outputs": [],
   "source": [
    "#lower extreme values\n",
    "lower=qnt.loc[0.30]-1.5*iqr\n",
    "lower"
   ]
  },
  {
   "cell_type": "code",
   "execution_count": null,
   "id": "9b505efa",
   "metadata": {},
   "outputs": [],
   "source": [
    "#upper extreme values\n",
    "upper=qnt.loc[0.45]+1.5*iqr\n",
    "upper"
   ]
  },
  {
   "cell_type": "markdown",
   "id": "c861840c",
   "metadata": {},
   "source": [
    "# Replacing the outlier"
   ]
  },
  {
   "cell_type": "code",
   "execution_count": null,
   "id": "9c9fd19e",
   "metadata": {},
   "outputs": [],
   "source": [
    "dataset['Age']=np.where(dataset['Age']>45,31,dataset['Age'])"
   ]
  },
  {
   "cell_type": "code",
   "execution_count": null,
   "id": "f31dfcdb",
   "metadata": {},
   "outputs": [],
   "source": [
    "sns.boxplot(dataset['Age'])"
   ]
  },
  {
   "cell_type": "markdown",
   "id": "9462d5f9",
   "metadata": {},
   "source": [
    "# Check for Categorical columns and perform encoding"
   ]
  },
  {
   "cell_type": "code",
   "execution_count": null,
   "id": "5bccd4cd",
   "metadata": {},
   "outputs": [],
   "source": [
    "dataset = pd.read_csv(\"Churn_Modelling.csv\")\n",
    "dataset.head()"
   ]
  },
  {
   "cell_type": "code",
   "execution_count": null,
   "id": "36d890ef",
   "metadata": {},
   "outputs": [],
   "source": [
    "# manually handling the categorical columns\n",
    "\n",
    "dataset['Gender'].replace( {'Female':1,'Male':0},inplace=True)\n",
    "\n",
    "dataset['Geography'].replace( {'France':1,'Spain':0},inplace=True)\n",
    "\n",
    "dataset.head()"
   ]
  },
  {
   "cell_type": "markdown",
   "id": "e0a803e9",
   "metadata": {},
   "source": [
    "# Split the data into dependent and independent variables."
   ]
  },
  {
   "cell_type": "code",
   "execution_count": null,
   "id": "a6273095",
   "metadata": {},
   "outputs": [],
   "source": [
    "#target variable\n",
    "\n",
    "y=dataset['Balance']\n",
    "y.head()"
   ]
  },
  {
   "cell_type": "code",
   "execution_count": null,
   "id": "6cf5da8d",
   "metadata": {},
   "outputs": [],
   "source": [
    "#independent\n",
    "\n",
    "x=dataset.drop(columns=['Balance'],axis=1)\n",
    "\n",
    "x.head()\n"
   ]
  },
  {
   "cell_type": "code",
   "execution_count": null,
   "id": "5c438ac2",
   "metadata": {},
   "outputs": [],
   "source": [
    "dataset=pd.get_dummies(dataset,columns=['Balance'])\n",
    "\n",
    "dataset.head()"
   ]
  },
  {
   "cell_type": "markdown",
   "id": "c2e6daf9",
   "metadata": {},
   "source": [
    "# Scale the independent variables\n"
   ]
  },
  {
   "cell_type": "code",
   "execution_count": null,
   "id": "76e2ee33",
   "metadata": {},
   "outputs": [],
   "source": [
    "from sklearn.prepocessing import scale"
   ]
  },
  {
   "cell_type": "code",
   "execution_count": null,
   "id": "2e09b008",
   "metadata": {},
   "outputs": [],
   "source": [
    "x=scale(x)"
   ]
  },
  {
   "cell_type": "code",
   "execution_count": null,
   "id": "4bd153ee",
   "metadata": {},
   "outputs": [],
   "source": [
    "x"
   ]
  },
  {
   "cell_type": "code",
   "execution_count": null,
   "id": "ed9f7784",
   "metadata": {},
   "outputs": [],
   "source": [
    "x.mean()"
   ]
  },
  {
   "cell_type": "code",
   "execution_count": null,
   "id": "203203db",
   "metadata": {},
   "outputs": [],
   "source": [
    "x.std()"
   ]
  },
  {
   "cell_type": "markdown",
   "id": "8bc815b0",
   "metadata": {},
   "source": [
    "# Split the data into training and testing"
   ]
  },
  {
   "cell_type": "code",
   "execution_count": null,
   "id": "59d82d27",
   "metadata": {},
   "outputs": [],
   "source": [
    "from sklearn.model_selection import train_test_split\n"
   ]
  },
  {
   "cell_type": "code",
   "execution_count": null,
   "id": "526fe269",
   "metadata": {},
   "outputs": [],
   "source": [
    "x_train,x_test,y_train,y_test = train_test_split(x,y,test_size=0.2,random_state=0)"
   ]
  },
  {
   "cell_type": "code",
   "execution_count": null,
   "id": "19e4d24c",
   "metadata": {},
   "outputs": [],
   "source": [
    "x_train.shape"
   ]
  },
  {
   "cell_type": "code",
   "execution_count": null,
   "id": "50a5b185",
   "metadata": {},
   "outputs": [],
   "source": [
    "x_test.shape"
   ]
  },
  {
   "cell_type": "code",
   "execution_count": null,
   "id": "e7ab8233",
   "metadata": {},
   "outputs": [],
   "source": [
    "y_train.shape"
   ]
  },
  {
   "cell_type": "code",
   "execution_count": null,
   "id": "3b7291d9",
   "metadata": {},
   "outputs": [],
   "source": [
    "y_test.shape\n"
   ]
  },
  {
   "cell_type": "code",
   "execution_count": null,
   "id": "2cba283c",
   "metadata": {},
   "outputs": [],
   "source": []
  }
 ],
 "metadata": {
  "kernelspec": {
   "display_name": "Python 3 (ipykernel)",
   "language": "python",
   "name": "python3"
  },
  "language_info": {
   "codemirror_mode": {
    "name": "ipython",
    "version": 3
   },
   "file_extension": ".py",
   "mimetype": "text/x-python",
   "name": "python",
   "nbconvert_exporter": "python",
   "pygments_lexer": "ipython3",
   "version": "3.9.12"
  }
 },
 "nbformat": 4,
 "nbformat_minor": 5
}
